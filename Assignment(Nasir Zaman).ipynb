{
 "cells": [
  {
   "cell_type": "markdown",
   "metadata": {
    "colab_type": "text",
    "id": "_Q8Xf7Ncy8Z-"
   },
   "source": [
    "# ** Strig Data Types all Methods**"
   ]
  },
  {
   "cell_type": "code",
   "execution_count": 0,
   "metadata": {
    "colab": {
     "base_uri": "https://localhost:8080/",
     "height": 51
    },
    "colab_type": "code",
    "id": "qzqBorL2U48B",
    "outputId": "d062e84e-4c1f-4215-e866-b4648d4e4b6d"
   },
   "outputs": [
    {
     "name": "stdout",
     "output_type": "stream",
     "text": [
      "nasir zaman\n",
      "Nasir zaman\n"
     ]
    }
   ],
   "source": [
    "a = \"nasir zaman\"\n",
    "print (a)\n",
    "print(a.capitalize())"
   ] 
  },
  {
   "cell_type": "code",
   "execution_count": 0,
   "metadata": {
    "colab": {
     "base_uri": "https://localhost:8080/",
     "height": 51
    },
    "colab_type": "code",
    "id": "OB1HaM3lVW5M",
    "outputId": "cf4d1ec8-9956-49ea-b8f7-4a0fe08dcd26"
   },
   "outputs": [
    {
     "name": "stdout",
     "output_type": "stream",
     "text": [
      "NAsir Zaman\n",
      "nasir zaman\n"
     ]
    }
   ],
   "source": [
    "a = \"NAsir Zaman\"\n",
    "print (a)\n",
    "print(a.casefold())"
   ]
  },
  {
   "cell_type": "code",
   "execution_count": 0,
   "metadata": {
    "colab": {
     "base_uri": "https://localhost:8080/",
     "height": 51
    },
    "colab_type": "code",
    "id": "f3DI3dt_Vgz5",
    "outputId": "daa38e93-501b-4821-ea05-cb4aa5f2582d"
   },
   "outputs": [
    {
     "name": "stdout",
     "output_type": "stream",
     "text": [
      "nasir zaman\n",
      "                   nasir zaman                    \n"
     ]
    }
   ],
   "source": [
    "a = \"nasir zaman\"\n",
    "print (a)\n",
    "print(a.center(50))"
   ]
  },
  {
   "cell_type": "code",
   "execution_count": 0,
   "metadata": {
    "colab": {
     "base_uri": "https://localhost:8080/",
     "height": 51
    },
    "colab_type": "code",
    "id": "mYiMsE3lV8yk",
    "outputId": "62494721-0388-4ad9-cf2c-91f51eb3cf9d"
   },
   "outputs": [
    {
     "name": "stdout",
     "output_type": "stream",
     "text": [
      "[1, 1, 1, 1, 4, 2, 4, 55, 6, 7]\n",
      "4\n"
     ]
    }
   ],
   "source": [
    "a = [1,1,1,1,4,2,4,55,6,7]\n",
    "print (a)\n",
    "print(a.count(1))"
   ]
  },
  {
   "cell_type": "code",
   "execution_count": 0,
   "metadata": {
    "colab": {
     "base_uri": "https://localhost:8080/",
     "height": 51
    },
    "colab_type": "code",
    "id": "3t1fylrhWh1b",
    "outputId": "b57ee0d1-cfb3-4125-807d-2dac38d93458"
   },
   "outputs": [
    {
     "name": "stdout",
     "output_type": "stream",
     "text": [
      "nasir_zaman\n",
      "b'nasir_zaman'\n"
     ]
    }
   ],
   "source": [
    "a = \"nasir_zaman\"\n",
    "print (a)\n",
    "print(a.encode())"
   ]
  },
  {
   "cell_type": "code",
   "execution_count": 0,
   "metadata": {
    "colab": {
     "base_uri": "https://localhost:8080/",
     "height": 51
    },
    "colab_type": "code",
    "id": "HHHjnK35YGdQ",
    "outputId": "4bdf48b9-cbb4-4e07-a71e-274a4e81933e"
   },
   "outputs": [
    {
     "name": "stdout",
     "output_type": "stream",
     "text": [
      "My name is nasir zaman!!\n",
      "True\n"
     ]
    }
   ],
   "source": [
    "str = \"My name is nasir zaman!!\"\n",
    "suffix = \"zaman!!\"\n",
    "print (str)\n",
    "print (str.endswith(suffix))"
   ]
  },
  {
   "cell_type": "code",
   "execution_count": 0,
   "metadata": {
    "colab": {
     "base_uri": "https://localhost:8080/",
     "height": 51
    },
    "colab_type": "code",
    "id": "GiZ3C80gZMDo",
    "outputId": "addcdf23-a816-4b16-fdcf-9e4247e5c9be"
   },
   "outputs": [
    {
     "name": "stdout",
     "output_type": "stream",
     "text": [
      "xyz\t12345\tabc\n",
      "xyz             12345           abc\n"
     ]
    }
   ],
   "source": [
    "str = 'xyz\\t12345\\tabc'\n",
    "print(str)\n",
    "print(str.expandtabs(16))"
   ]
  },
  {
   "cell_type": "code",
   "execution_count": 0,
   "metadata": {
    "colab": {
     "base_uri": "https://localhost:8080/",
     "height": 85
    },
    "colab_type": "code",
    "id": "D-KTCCSRaB-g",
    "outputId": "7d4e1513-cd26-4829-a3a6-ea5eb56d9e98"
   },
   "outputs": [
    {
     "name": "stdout",
     "output_type": "stream",
     "text": [
      "4\n",
      "5\n",
      "6\n",
      "7\n"
     ]
    }
   ],
   "source": [
    "s = 'abcd1234dcba'\n",
    "\n",
    "print(s.find('1234')) \n",
    "print(s.find('234'))\n",
    "print(s.find('34'))\n",
    "print(s.find('4'))"
   ]
  },
  {
   "cell_type": "code",
   "execution_count": 8,
   "metadata": {
    "colab": {
     "base_uri": "https://localhost:8080/",
     "height": 85
    },
    "colab_type": "code",
    "id": "xe33x4sXawwK",
    "outputId": "a44e80d8-48f8-4b3f-a6f8-8939c653c4c7"
   },
   "outputs": [
    {
     "name": "stdout",
     "output_type": "stream",
     "text": [
      "my name is nasir\n",
      "type your age!\n",
      "31\n",
      "my age is 31\n"
     ]
    }
   ],
   "source": [
    "str = \"my name is {}\"\n",
    "print (str.format(\"nasir\"))\n",
    "\n",
    "str = \"my age is {}\"\n",
    "print(\"type your age!\")\n",
    "age = input()\n",
    "print (str.format(age))"
   ]
  },
  {
   "cell_type": "code",
   "execution_count": 9,
   "metadata": {
    "colab": {
     "base_uri": "https://localhost:8080/",
     "height": 34
    },
    "colab_type": "code",
    "id": "IeEGVTNdbd2C",
    "outputId": "38fd5efc-5026-4ee5-97bd-be79177d722b"
   },
   "outputs": [
    {
     "name": "stdout",
     "output_type": "stream",
     "text": [
      "4 -5\n"
     ]
    }
   ],
   "source": [
    "point = {'x':4,'y':-5}\n",
    "print('{x} {y}'.format_map(point))\n"
   ]
  },
  {
   "cell_type": "code",
   "execution_count": 10,
   "metadata": {
    "colab": {
     "base_uri": "https://localhost:8080/",
     "height": 34
    },
    "colab_type": "code",
    "id": "wUmlWqiZGheo",
    "outputId": "e2be4a68-4cb1-4066-9fc3-88981b638cb6"
   },
   "outputs": [
    {
     "name": "stdout",
     "output_type": "stream",
     "text": [
      "The index of e: 1\n"
     ]
    }
   ],
   "source": [
    "vowels = ['a', 'e', 'i', 'o', 'i', 'u']\n",
    "# index of 'e'\n",
    "index = vowels.index('e')\n",
    "print('The index of e:', index)"
   ]
  },
  {
   "cell_type": "code",
   "execution_count": 14,
   "metadata": {
    "colab": {
     "base_uri": "https://localhost:8080/",
     "height": 34
    },
    "colab_type": "code",
    "id": "DHjeLZxxG9jD",
    "outputId": "26a63cb5-6c01-46c7-9a16-dfc1354a3fa8"
   },
   "outputs": [
    {
     "name": "stdout",
     "output_type": "stream",
     "text": [
      "True\n"
     ]
    }
   ],
   "source": [
    "str = \"aeiou\"\n",
    "print(str.isalnum())"
   ]
  },
  {
   "cell_type": "code",
   "execution_count": 16,
   "metadata": {
    "colab": {
     "base_uri": "https://localhost:8080/",
     "height": 34
    },
    "colab_type": "code",
    "id": "zG7FSC77HZH1",
    "outputId": "53a3de8a-6717-4a5f-b5d0-460fad010222"
   },
   "outputs": [
    {
     "name": "stdout",
     "output_type": "stream",
     "text": [
      "True\n"
     ]
    }
   ],
   "source": [
    "str = \"aeiou\"\n",
    "print(str.isalpha())"
   ]
  },
  {
   "cell_type": "code",
   "execution_count": 20,
   "metadata": {
    "colab": {
     "base_uri": "https://localhost:8080/",
     "height": 34
    },
    "colab_type": "code",
    "id": "-X1DXkKfH_T-",
    "outputId": "0800c8aa-8e19-42ce-8684-b561b3aa077a"
   },
   "outputs": [
    {
     "name": "stdout",
     "output_type": "stream",
     "text": [
      "True\n"
     ]
    }
   ],
   "source": [
    "str = \"456879\"\n",
    "print(str.isdecimal())"
   ]
  },
  {
   "cell_type": "code",
   "execution_count": 21,
   "metadata": {
    "colab": {
     "base_uri": "https://localhost:8080/",
     "height": 34
    },
    "colab_type": "code",
    "id": "XIxs0tWZIFzM",
    "outputId": "825d6a39-5134-4041-863e-b8916b1fb53b"
   },
   "outputs": [
    {
     "name": "stdout",
     "output_type": "stream",
     "text": [
      "True\n"
     ]
    }
   ],
   "source": [
    "str = \"456879\"\n",
    "print(str.isdigit())"
   ]
  },
  {
   "cell_type": "code",
   "execution_count": 23,
   "metadata": {
    "colab": {
     "base_uri": "https://localhost:8080/",
     "height": 51
    },
    "colab_type": "code",
    "id": "fDsLntCsIgzG",
    "outputId": "5a052f79-568f-4f3a-aa0e-c1d9c5f3c6dc"
   },
   "outputs": [
    {
     "name": "stdout",
     "output_type": "stream",
     "text": [
      "True\n",
      "False\n"
     ]
    }
   ],
   "source": [
    "str = \"validString\"\n",
    "print(str.isidentifier())\n",
    "\n",
    "str = \"IN validString\"\n",
    "print(str.isidentifier())"
   ]
  },
  {
   "cell_type": "code",
   "execution_count": 24,
   "metadata": {
    "colab": {
     "base_uri": "https://localhost:8080/",
     "height": 34
    },
    "colab_type": "code",
    "id": "mlZYX9J9I7mh",
    "outputId": "ba44c10a-4a04-4583-8944-8ca17e3ecfb8"
   },
   "outputs": [
    {
     "name": "stdout",
     "output_type": "stream",
     "text": [
      "True\n"
     ]
    }
   ],
   "source": [
    "str = 'hollywood'\n",
    "print(str.islower())"
   ]
  },
  {
   "cell_type": "code",
   "execution_count": 26,
   "metadata": {
    "colab": {
     "base_uri": "https://localhost:8080/",
     "height": 51
    },
    "colab_type": "code",
    "id": "HjkZslH7aOTd",
    "outputId": "eab41d9e-5257-4416-a77e-8fd5fa689251"
   },
   "outputs": [
    {
     "name": "stdout",
     "output_type": "stream",
     "text": [
      "True\n",
      "False\n"
     ]
    }
   ],
   "source": [
    "str = '01234568461321'\n",
    "print(str.isnumeric())\n",
    "\n",
    "str = '01234568461a321'\n",
    "print(str.isnumeric())"
   ]
  },
  {
   "cell_type": "code",
   "execution_count": 30,
   "metadata": {
    "colab": {
     "base_uri": "https://localhost:8080/",
     "height": 51
    },
    "colab_type": "code",
    "id": "kpIOakcuaxBZ",
    "outputId": "af8f78b8-fc39-4995-c0c8-01a1e091db0b"
   },
   "outputs": [
    {
     "name": "stdout",
     "output_type": "stream",
     "text": [
      "True\n",
      "False\n"
     ]
    }
   ],
   "source": [
    "str = '01234568461321'\n",
    "print(str.isprintable())\n",
    "\n",
    "str = '\\n 01234568461321rgsdfg'\n",
    "print(str.isprintable())"
   ]
  },
  {
   "cell_type": "code",
   "execution_count": 34,
   "metadata": {
    "colab": {
     "base_uri": "https://localhost:8080/",
     "height": 34
    },
    "colab_type": "code",
    "id": "Jrwa364Sa6Xm",
    "outputId": "acde7e00-91df-4884-f5e2-fdee2582682c"
   },
   "outputs": [
    {
     "name": "stdout",
     "output_type": "stream",
     "text": [
      "True\n"
     ]
    }
   ],
   "source": [
    "str = ' '\n",
    "print(str.isspace())"
   ]
  },
  {
   "cell_type": "code",
   "execution_count": 36,
   "metadata": {
    "colab": {
     "base_uri": "https://localhost:8080/",
     "height": 51
    },
    "colab_type": "code",
    "id": "QeLPwV6qbbsH",
    "outputId": "c4c96cf5-ff31-4787-af08-eba0ca1e464a"
   },
   "outputs": [
    {
     "name": "stdout",
     "output_type": "stream",
     "text": [
      "True\n",
      "False\n"
     ]
    }
   ],
   "source": [
    "str = 'Nasir'\n",
    "print(str.istitle())\n",
    "\n",
    "str = 'nasir'\n",
    "print(str.istitle())"
   ]
  },
  {
   "cell_type": "code",
   "execution_count": 41,
   "metadata": {
    "colab": {
     "base_uri": "https://localhost:8080/",
     "height": 51
    },
    "colab_type": "code",
    "id": "L0OM5zHWcKL_",
    "outputId": "d8cdf997-62fe-44aa-8d98-7c10ebc41de5"
   },
   "outputs": [
    {
     "name": "stdout",
     "output_type": "stream",
     "text": [
      "False\n",
      "True\n"
     ]
    }
   ],
   "source": [
    "str = 'Nasir'\n",
    "print(str.isupper())\n",
    "\n",
    "str = 'NASIR'\n",
    "print(str.isupper())"
   ]
  },
  {
   "cell_type": "code",
   "execution_count": 43,
   "metadata": {
    "colab": {
     "base_uri": "https://localhost:8080/",
     "height": 34
    },
    "colab_type": "code",
    "id": "LtAABJBCcdI2",
    "outputId": "49ce2fd2-f97b-4b86-d7f1-9e9f9b88be06"
   },
   "outputs": [
    {
     "name": "stdout",
     "output_type": "stream",
     "text": [
      "n-a-s-i-r- -z-a-m-a-n\n"
     ]
    }
   ],
   "source": [
    "str = 'nasir zaman'\n",
    "s = '-'\n",
    "print(s.join(str))"
   ]
  },
  {
   "cell_type": "code",
   "execution_count": 53,
   "metadata": {
    "colab": {
     "base_uri": "https://localhost:8080/",
     "height": 34
    },
    "colab_type": "code",
    "id": "zH2mgT5GdTbK",
    "outputId": "0855070a-1f0d-4bf6-d2e7-5ed036a78cf2"
   },
   "outputs": [
    {
     "name": "stdout",
     "output_type": "stream",
     "text": [
      "....wow!!!0000000000000000000000000000000000000000\n"
     ]
    }
   ],
   "source": [
    "str = \"....wow!!!\";\n",
    "print (str.ljust(50, '0'))"
   ]
  },
  {
   "cell_type": "code",
   "execution_count": 54,
   "metadata": {
    "colab": {
     "base_uri": "https://localhost:8080/",
     "height": 34
    },
    "colab_type": "code",
    "id": "4fzPcSMAdsMs",
    "outputId": "12f2c943-e33d-45eb-eea1-4726d0b39a29"
   },
   "outputs": [
    {
     "name": "stdout",
     "output_type": "stream",
     "text": [
      "nasir\n"
     ]
    }
   ],
   "source": [
    "str = 'Nasir'\n",
    "print(str.lower())"
   ]
  },
  {
   "cell_type": "code",
   "execution_count": 59,
   "metadata": {
    "colab": {
     "base_uri": "https://localhost:8080/",
     "height": 51
    },
    "colab_type": "code",
    "id": "UoZyrKIYeLAq",
    "outputId": "7355e527-682b-4926-f62a-dac3eb061daa"
   },
   "outputs": [
    {
     "name": "stdout",
     "output_type": "stream",
     "text": [
      "    Nasir zaman\n",
      "Nasir zaman\n"
     ]
    }
   ],
   "source": [
    "str = '    Nasir zaman'\n",
    "print(str)\n",
    "print(str.lstrip())"
   ]
  },
  {
   "cell_type": "code",
   "execution_count": 66,
   "metadata": {
    "colab": {
     "base_uri": "https://localhost:8080/",
     "height": 51
    },
    "colab_type": "code",
    "id": "0MzwJEglePn5",
    "outputId": "c7149466-6f77-4b13-ebbe-4bbe9ed05e6e"
   },
   "outputs": [
    {
     "name": "stdout",
     "output_type": "stream",
     "text": [
      "{97: '123', 98: '456', 99: '789'}\n",
      "{97: 100, 98: 101, 99: 102}\n"
     ]
    }
   ],
   "source": [
    "dict = {\"a\": \"123\", \"b\": \"456\", \"c\": \"789\"}\n",
    "string = \"abc\"\n",
    "print(string.maketrans(dict))\n",
    "\n",
    "firstString = \"abc\"\n",
    "secondString = \"def\"\n",
    "string = \"abc\"\n",
    "print(string.maketrans(firstString, secondString))"
   ]
  },
  {
   "cell_type": "code",
   "execution_count": 70,
   "metadata": {
    "colab": {
     "base_uri": "https://localhost:8080/",
     "height": 51
    },
    "colab_type": "code",
    "id": "eLBBQbVrfTtS",
    "outputId": "0efcfbae-c5ed-4a34-bbe6-b25e7547260b"
   },
   "outputs": [
    {
     "name": "stdout",
     "output_type": "stream",
     "text": [
      "Nasir zaman\n",
      "('Nasir', ' ', 'zaman')\n"
     ]
    }
   ],
   "source": [
    "str = 'Nasir zaman'\n",
    "seperator = ' '\n",
    "print(str)\n",
    "print(str.partition(seperator))"
   ]
  },
  {
   "cell_type": "code",
   "execution_count": 73,
   "metadata": {
    "colab": {
     "base_uri": "https://localhost:8080/",
     "height": 51
    },
    "colab_type": "code",
    "id": "q_z9ByL1gj2B",
    "outputId": "b952d0a0-f3cb-4b6d-b760-d88536674a54"
   },
   "outputs": [
    {
     "name": "stdout",
     "output_type": "stream",
     "text": [
      "Nasir zaman\n",
      "Nasir ZAMAN\n"
     ]
    }
   ],
   "source": [
    "str = 'Nasir zaman'\n",
    "print(str)\n",
    "print(str.replace('zaman','ZAMAN',1))"
   ]
  },
  {
   "cell_type": "code",
   "execution_count": 74,
   "metadata": {
    "colab": {
     "base_uri": "https://localhost:8080/",
     "height": 34
    },
    "colab_type": "code",
    "id": "mdt54d1JhT_Z",
    "outputId": "a8d22c94-8e14-4f3c-b392-a801b06c25ef"
   },
   "outputs": [
    {
     "name": "stdout",
     "output_type": "stream",
     "text": [
      "Substring 'let it': 22\n"
     ]
    }
   ],
   "source": [
    "quote = 'Let it be, let it be, let it be'\n",
    "\n",
    "result = quote.rfind('let it')\n",
    "print(\"Substring 'let it':\", result)"
   ]
  },
  {
   "cell_type": "code",
   "execution_count": 75,
   "metadata": {
    "colab": {
     "base_uri": "https://localhost:8080/",
     "height": 34
    },
    "colab_type": "code",
    "id": "rXBFLj5NiXSR",
    "outputId": "c1d5b117-4686-4b48-d558-a84b187a243b"
   },
   "outputs": [
    {
     "name": "stdout",
     "output_type": "stream",
     "text": [
      "Substring 'let it': 22\n"
     ]
    }
   ],
   "source": [
    "quote = 'Let it be, let it be, let it be'\n",
    "\n",
    "result = quote.rindex('let it')\n",
    "print(\"Substring 'let it':\", result)"
   ]
  },
  {
   "cell_type": "code",
   "execution_count": 77,
   "metadata": {
    "colab": {
     "base_uri": "https://localhost:8080/",
     "height": 34
    },
    "colab_type": "code",
    "id": "VnUgt3rAqf_5",
    "outputId": "a08892eb-e8e8-41f8-c746-db76f3a8addd"
   },
   "outputs": [
    {
     "name": "stdout",
     "output_type": "stream",
     "text": [
      "*****************************************!!!wow!!!\n"
     ]
    }
   ],
   "source": [
    "str = \"!!!wow!!!\";\n",
    "print (str.rjust(50, '*'))"
   ]
  },
  {
   "cell_type": "code",
   "execution_count": 78,
   "metadata": {
    "colab": {
     "base_uri": "https://localhost:8080/",
     "height": 34
    },
    "colab_type": "code",
    "id": "tIYw7Y9LrD0x",
    "outputId": "ff0da850-aa03-42d1-9167-b4930f1dd6d9"
   },
   "outputs": [
    {
     "name": "stdout",
     "output_type": "stream",
     "text": [
      "('my name ', 'is', ' nasir')\n"
     ]
    }
   ],
   "source": [
    "str = 'my name is nasir'\n",
    "print(str.rpartition(\"is\"))"
   ]
  },
  {
   "cell_type": "code",
   "execution_count": 85,
   "metadata": {
    "colab": {
     "base_uri": "https://localhost:8080/",
     "height": 51
    },
    "colab_type": "code",
    "id": "DAqcY_7_r54o",
    "outputId": "c5d6196e-9409-4796-b7fd-bda0f3dd49c4"
   },
   "outputs": [
    {
     "name": "stdout",
     "output_type": "stream",
     "text": [
      "my name is nasir                                \n",
      "my name is nasir\n"
     ]
    }
   ],
   "source": [
    "str = 'my name is nasir                                '\n",
    "print(str)\n",
    "print(str.rstrip())"
   ]
  },
  {
   "cell_type": "code",
   "execution_count": 88,
   "metadata": {
    "colab": {
     "base_uri": "https://localhost:8080/",
     "height": 34
    },
    "colab_type": "code",
    "id": "dgyu0zfZsGZx",
    "outputId": "fb4341da-6aec-45d0-860d-43b8a1dc5dff"
   },
   "outputs": [
    {
     "name": "stdout",
     "output_type": "stream",
     "text": [
      "['my name ', ' nasir']\n"
     ]
    }
   ],
   "source": [
    "str = 'my name is nasir'\n",
    "print(str.split(\"is\"))"
   ]
  },
  {
   "cell_type": "code",
   "execution_count": 91,
   "metadata": {
    "colab": {
     "base_uri": "https://localhost:8080/",
     "height": 68
    },
    "colab_type": "code",
    "id": "1zrybbs7tma1",
    "outputId": "d62aaa49-b95f-43f4-dde6-201ab73e43f1"
   },
   "outputs": [
    {
     "name": "stdout",
     "output_type": "stream",
     "text": [
      "my name is \n",
      " nasir\n",
      "['my name is \\n', ' nasir']\n"
     ]
    }
   ],
   "source": [
    "str = 'my name is \\n nasir'\n",
    "print(str)\n",
    "print(str.splitlines(5))"
   ]
  },
  {
   "cell_type": "code",
   "execution_count": 92,
   "metadata": {
    "colab": {
     "base_uri": "https://localhost:8080/",
     "height": 34
    },
    "colab_type": "code",
    "id": "fzwl6CeKtv5V",
    "outputId": "58543175-3302-478c-89f8-282a800f56c4"
   },
   "outputs": [
    {
     "name": "stdout",
     "output_type": "stream",
     "text": [
      "True\n"
     ]
    }
   ],
   "source": [
    "str = 'my name is nasir'\n",
    "print(str.startswith(\"my\"))"
   ]
  },
  {
   "cell_type": "code",
   "execution_count": 95,
   "metadata": {
    "colab": {
     "base_uri": "https://localhost:8080/",
     "height": 51
    },
    "colab_type": "code",
    "id": "M-ewqrgSugfW",
    "outputId": "8748d293-a1ef-4583-8c03-8a91882ad92b"
   },
   "outputs": [
    {
     "name": "stdout",
     "output_type": "stream",
     "text": [
      "                               my name is nasir                                       \n",
      "my name is nasir\n"
     ]
    }
   ],
   "source": [
    "str = '                               my name is nasir                                       '\n",
    "print(str)\n",
    "print(str.strip())"
   ]
  },
  {
   "cell_type": "code",
   "execution_count": 96,
   "metadata": {
    "colab": {
     "base_uri": "https://localhost:8080/",
     "height": 34
    },
    "colab_type": "code",
    "id": "A6qA_xcyupJa",
    "outputId": "0f3457c3-6900-4be5-cd8c-73e9f5a879ed"
   },
   "outputs": [
    {
     "name": "stdout",
     "output_type": "stream",
     "text": [
      "MY NAME IS NASIR\n"
     ]
    }
   ],
   "source": [
    "str = 'my name is nasir'\n",
    "print(str.swapcase())"
   ]
  },
  {
   "cell_type": "code",
   "execution_count": 97,
   "metadata": {
    "colab": {
     "base_uri": "https://localhost:8080/",
     "height": 34
    },
    "colab_type": "code",
    "id": "1gM_q7esu20_",
    "outputId": "7cb6bd9c-4224-4615-b82a-7367f5954b38"
   },
   "outputs": [
    {
     "name": "stdout",
     "output_type": "stream",
     "text": [
      "My Name Is Nasir\n"
     ]
    }
   ],
   "source": [
    "str = 'my name is nasir'\n",
    "print(str.title())"
   ]
  },
  {
   "cell_type": "code",
   "execution_count": 100,
   "metadata": {
    "colab": {
     "base_uri": "https://localhost:8080/",
     "height": 51
    },
    "colab_type": "code",
    "id": "-gErFCXavAZL",
    "outputId": "79af792f-4360-45ad-d774-4a6e59ce4446"
   },
   "outputs": [
    {
     "name": "stdout",
     "output_type": "stream",
     "text": [
      "Original string: humans\n",
      "Translated string: humans\n"
     ]
    }
   ],
   "source": [
    "# Python 3 Program to show working \n",
    "# of translate() method \n",
    "  \n",
    "# specifying the mapping   \n",
    "# using ASCII   \n",
    "translation = {103: None, 101: None, 101: None} \n",
    "  \n",
    "string = \"geeks\"\n",
    "print(\"Original string:\", string) \n",
    "  \n",
    "# translate string \n",
    "print(\"Translated string:\",  \n",
    "       string.translate(translation)) "
   ]
  },
  {
   "cell_type": "code",
   "execution_count": 101,
   "metadata": {
    "colab": {
     "base_uri": "https://localhost:8080/",
     "height": 34
    },
    "colab_type": "code",
    "id": "XVT_LO_YvHNt",
    "outputId": "7e43e6d8-a6ca-49bc-a8fa-978e06229133"
   },
   "outputs": [
    {
     "name": "stdout",
     "output_type": "stream",
     "text": [
      "MY NAME IS NASIR\n"
     ]
    }
   ],
   "source": [
    "str = 'my name is nasir'\n",
    "print(str.upper())"
   ]
  },
  {
   "cell_type": "code",
   "execution_count": 103,
   "metadata": {
    "colab": {
     "base_uri": "https://localhost:8080/",
     "height": 34
    },
    "colab_type": "code",
    "id": "-QmzRD9fwR4a",
    "outputId": "e27bb8b8-8706-483c-d103-bd1c3bd4ae34"
   },
   "outputs": [
    {
     "name": "stdout",
     "output_type": "stream",
     "text": [
      "000000000000000000000000000000000 my name is nasir\n"
     ]
    }
   ],
   "source": [
    "str =  ' my name is nasir'\n",
    "print(str.zfill(50))"
   ]
  },
  {
   "cell_type": "markdown",
   "metadata": {
    "colab_type": "text",
    "id": "hYN0Vabfyp8R"
   },
   "source": [
    "# **Applying Random Operators on 20 Opperands**"
   ]
  },
  {
   "cell_type": "code",
   "execution_count": 104,
   "metadata": {
    "colab": {
     "base_uri": "https://localhost:8080/",
     "height": 34
    },
    "colab_type": "code",
    "id": "at3ZhxbbypmY",
    "outputId": "e4460f5b-8dff-4c28-e0b8-3622fe7acb44"
   },
   "outputs": [
    {
     "data": {
      "text/plain": [
       "41.0"
      ]
     },
     "execution_count": 104,
     "metadata": {
      "tags": []
     },
     "output_type": "execute_result"
    }
   ],
   "source": [
    "9+8*2/2**2+(7-3)*7"
   ]
  },
  {
   "cell_type": "code",
   "execution_count": 105,
   "metadata": {
    "colab": {
     "base_uri": "https://localhost:8080/",
     "height": 34
    },
    "colab_type": "code",
    "id": "lVeAwJutwd-6",
    "outputId": "edb80ccc-e83e-453c-e787-d3a047755488"
   },
   "outputs": [
    {
     "data": {
      "text/plain": [
       "65.0"
      ]
     },
     "execution_count": 105,
     "metadata": {
      "tags": []
     },
     "output_type": "execute_result"
    }
   ],
   "source": [
    "9+8*2/2*7"
   ]
  },
  {
   "cell_type": "code",
   "execution_count": 106,
   "metadata": {
    "colab": {
     "base_uri": "https://localhost:8080/",
     "height": 34
    },
    "colab_type": "code",
    "id": "wMLgQomY34au",
    "outputId": "5bbbe527-7872-4882-f8e8-a2291dc4039b"
   },
   "outputs": [
    {
     "data": {
      "text/plain": [
       "37"
      ]
     },
     "execution_count": 106,
     "metadata": {
      "tags": []
     },
     "output_type": "execute_result"
    }
   ],
   "source": [
    "9+(7-3)*7"
   ]
  },
  {
   "cell_type": "code",
   "execution_count": 107,
   "metadata": {
    "colab": {
     "base_uri": "https://localhost:8080/",
     "height": 34
    },
    "colab_type": "code",
    "id": "zXf1IPaV363e",
    "outputId": "61194d72-497c-4f7e-a7d7-ec1a9e9f1d98"
   },
   "outputs": [
    {
     "data": {
      "text/plain": [
       "446.0"
      ]
     },
     "execution_count": 107,
     "metadata": {
      "tags": []
     },
     "output_type": "execute_result"
    }
   ],
   "source": [
    "10+800*2/4**2+(51-3)*7"
   ]
  },
  {
   "cell_type": "code",
   "execution_count": 108,
   "metadata": {
    "colab": {
     "base_uri": "https://localhost:8080/",
     "height": 34
    },
    "colab_type": "code",
    "id": "JJVb6uC04Bzv",
    "outputId": "71aa6f9e-0421-4de1-d26d-4dc5b3ef5be9"
   },
   "outputs": [
    {
     "data": {
      "text/plain": [
       "5610"
      ]
     },
     "execution_count": 108,
     "metadata": {
      "tags": []
     },
     "output_type": "execute_result"
    }
   ],
   "source": [
    "10+800*7"
   ]
  },
  {
   "cell_type": "code",
   "execution_count": 109,
   "metadata": {
    "colab": {
     "base_uri": "https://localhost:8080/",
     "height": 34
    },
    "colab_type": "code",
    "id": "sKZeCi9c4FPt",
    "outputId": "680ea7f4-49a1-4540-b7b1-03e8b363be1e"
   },
   "outputs": [
    {
     "data": {
      "text/plain": [
       "336.125"
      ]
     },
     "execution_count": 109,
     "metadata": {
      "tags": []
     },
     "output_type": "execute_result"
    }
   ],
   "source": [
    "2/4**2+(51-3)*7"
   ]
  },
  {
   "cell_type": "code",
   "execution_count": 110,
   "metadata": {
    "colab": {
     "base_uri": "https://localhost:8080/",
     "height": 34
    },
    "colab_type": "code",
    "id": "9hLoE6024HqZ",
    "outputId": "b32f6148-7a06-4ecf-dc25-3b0226e39429"
   },
   "outputs": [
    {
     "data": {
      "text/plain": [
       "10.09765625"
      ]
     },
     "execution_count": 110,
     "metadata": {
      "tags": []
     },
     "output_type": "execute_result"
    }
   ],
   "source": [
    "10+800*2/4**7"
   ]
  },
  {
   "cell_type": "code",
   "execution_count": 111,
   "metadata": {
    "colab": {
     "base_uri": "https://localhost:8080/",
     "height": 34
    },
    "colab_type": "code",
    "id": "OvU-ygyR4Kre",
    "outputId": "409e28f1-4ea0-41e0-cafd-f9c07fc80512"
   },
   "outputs": [
    {
     "data": {
      "text/plain": [
       "10.009765625"
      ]
     },
     "execution_count": 111,
     "metadata": {
      "tags": []
     },
     "output_type": "execute_result"
    }
   ],
   "source": [
    "10+80*2/4**7"
   ]
  },
  {
   "cell_type": "code",
   "execution_count": 112,
   "metadata": {
    "colab": {
     "base_uri": "https://localhost:8080/",
     "height": 34
    },
    "colab_type": "code",
    "id": "4tpQ3dCu4Smo",
    "outputId": "cb0beafc-ad02-4009-d79f-52ecf27e0219"
   },
   "outputs": [
    {
     "data": {
      "text/plain": [
       "9.90234375"
      ]
     },
     "execution_count": 112,
     "metadata": {
      "tags": []
     },
     "output_type": "execute_result"
    }
   ],
   "source": [
    "10-20*0-800*2/4**7"
   ]
  },
  {
   "cell_type": "code",
   "execution_count": 113,
   "metadata": {
    "colab": {
     "base_uri": "https://localhost:8080/",
     "height": 34
    },
    "colab_type": "code",
    "id": "_iyluYIT4Wyt",
    "outputId": "52e2820f-69f8-4c95-9090-038b66dd251e"
   },
   "outputs": [
    {
     "data": {
      "text/plain": [
       "675.2"
      ]
     },
     "execution_count": 113,
     "metadata": {
      "tags": []
     },
     "output_type": "execute_result"
    }
   ],
   "source": [
    "5/4*4+45+1/5+5**4"
   ]
  },
  {
   "cell_type": "code",
   "execution_count": 114,
   "metadata": {
    "colab": {
     "base_uri": "https://localhost:8080/",
     "height": 34
    },
    "colab_type": "code",
    "id": "1m3Zq2WT4bYL",
    "outputId": "59db88e6-5242-491a-eae8-f05950837ef4"
   },
   "outputs": [
    {
     "data": {
      "text/plain": [
       "-2824553"
      ]
     },
     "execution_count": 114,
     "metadata": {
      "tags": []
     },
     "output_type": "execute_result"
    }
   ],
   "source": [
    "186*4-41**4+464"
   ]
  },
  {
   "cell_type": "code",
   "execution_count": 117,
   "metadata": {
    "colab": {
     "base_uri": "https://localhost:8080/",
     "height": 34
    },
    "colab_type": "code",
    "id": "a5aYNZiu4gFv",
    "outputId": "7b8283cf-9196-4c5a-a9f6-024cb909799b"
   },
   "outputs": [
    {
     "data": {
      "text/plain": [
       "42180533595"
      ]
     },
     "execution_count": 117,
     "metadata": {
      "tags": []
     },
     "output_type": "execute_result"
    }
   ],
   "source": [
    "59**6-46+0"
   ]
  },
  {
   "cell_type": "code",
   "execution_count": 118,
   "metadata": {
    "colab": {
     "base_uri": "https://localhost:8080/",
     "height": 34
    },
    "colab_type": "code",
    "id": "AuzN2oGq4n4M",
    "outputId": "d9f8e23a-a6d6-481b-eafd-fe9bbc9d1bc0"
   },
   "outputs": [
    {
     "data": {
      "text/plain": [
       "179210.0"
      ]
     },
     "execution_count": 118,
     "metadata": {
      "tags": []
     },
     "output_type": "execute_result"
    }
   ],
   "source": [
    "10+800*2/4*4*4*4*7"
   ]
  },
  {
   "cell_type": "code",
   "execution_count": 120,
   "metadata": {
    "colab": {
     "base_uri": "https://localhost:8080/",
     "height": 34
    },
    "colab_type": "code",
    "id": "Rozuu5nH4xZj",
    "outputId": "6b56b2c6-88fc-44ce-8561-85113bba3409"
   },
   "outputs": [
    {
     "data": {
      "text/plain": [
       "425.0"
      ]
     },
     "execution_count": 120,
     "metadata": {
      "tags": []
     },
     "output_type": "execute_result"
    }
   ],
   "source": [
    "10+800*2/4*4/4+5+9+8-7-0"
   ]
  },
  {
   "cell_type": "code",
   "execution_count": 121,
   "metadata": {
    "colab": {
     "base_uri": "https://localhost:8080/",
     "height": 34
    },
    "colab_type": "code",
    "id": "GRNUuUTg44Uk",
    "outputId": "64a82007-a36f-4e52-ee3d-e56dab7eddfb"
   },
   "outputs": [
    {
     "data": {
      "text/plain": [
       "1015443549300625.0"
      ]
     },
     "execution_count": 121,
     "metadata": {
      "tags": []
     },
     "output_type": "execute_result"
    }
   ],
   "source": [
    "464/464*464-464+5645**4"
   ]
  },
  {
   "cell_type": "code",
   "execution_count": 122,
   "metadata": {
    "colab": {
     "base_uri": "https://localhost:8080/",
     "height": 34
    },
    "colab_type": "code",
    "id": "iiU_hS2H49Gw",
    "outputId": "c4e0a8cf-ed84-4aa1-bcbb-895213b411d6"
   },
   "outputs": [
    {
     "data": {
      "text/plain": [
       "-718899586473369.2"
      ]
     },
     "execution_count": 122,
     "metadata": {
      "tags": []
     },
     "output_type": "execute_result"
    }
   ],
   "source": [
    "54325*524*-25254413+441234123/4"
   ]
  },
  {
   "cell_type": "code",
   "execution_count": 123,
   "metadata": {
    "colab": {
     "base_uri": "https://localhost:8080/",
     "height": 34
    },
    "colab_type": "code",
    "id": "XLDbm5h_5DoM",
    "outputId": "03f1ce1e-8e86-404f-e351-d8581fd9428c"
   },
   "outputs": [
    {
     "data": {
      "text/plain": [
       "12.5"
      ]
     },
     "execution_count": 123,
     "metadata": {
      "tags": []
     },
     "output_type": "execute_result"
    }
   ],
   "source": [
    "5+5+5/2"
   ]
  },
  {
   "cell_type": "code",
   "execution_count": 124,
   "metadata": {
    "colab": {
     "base_uri": "https://localhost:8080/",
     "height": 34
    },
    "colab_type": "code",
    "id": "LlZelmB15H6H",
    "outputId": "6af7d229-e6d0-40ad-e0b1-64d6cbb33d22"
   },
   "outputs": [
    {
     "data": {
      "text/plain": [
       "0.0"
      ]
     },
     "execution_count": 124,
     "metadata": {
      "tags": []
     },
     "output_type": "execute_result"
    }
   ],
   "source": [
    "4/4+1-2"
   ]
  },
  {
   "cell_type": "code",
   "execution_count": 0,
   "metadata": {
    "colab": {},
    "colab_type": "code",
    "id": "xb3QCv4B5LZZ"
   },
   "outputs": [],
   "source": []
  }
 ],
 "metadata": {
  "colab": {
   "collapsed_sections": [],
   "name": "Assignment_No_1.ipynb",
   "provenance": []
  },
  "kernelspec": {
   "display_name": "Python 3",
   "language": "python",
   "name": "python3"
  }
 },
 "nbformat": 4,
 "nbformat_minor": 1
}
