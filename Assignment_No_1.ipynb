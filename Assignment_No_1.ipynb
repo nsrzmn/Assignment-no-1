{
  "nbformat": 4,
  "nbformat_minor": 0,
  "metadata": {
    "colab": {
      "name": "Assignment_No_1.ipynb",
      "provenance": [],
      "collapsed_sections": [],
      "include_colab_link": true
    },
    "kernelspec": {
      "name": "python3",
      "display_name": "Python 3"
    }
  },
  "cells": [
    {
      "cell_type": "markdown",
      "metadata": {
        "id": "view-in-github",
        "colab_type": "text"
      },
      "source": [
        "<a href=\"https://colab.research.google.com/github/nsrzmn/Assignment-no-1/blob/master/Assignment_No_1.ipynb\" target=\"_parent\"><img src=\"https://colab.research.google.com/assets/colab-badge.svg\" alt=\"Open In Colab\"/></a>"
      ]
    },
    {
      "cell_type": "markdown",
      "metadata": {
        "id": "_Q8Xf7Ncy8Z-",
        "colab_type": "text"
      },
      "source": [
        "# ** Strig Data Types all Methods**"
      ]
    },
    {
      "cell_type": "code",
      "metadata": {
        "id": "qzqBorL2U48B",
        "colab_type": "code",
        "outputId": "d062e84e-4c1f-4215-e866-b4648d4e4b6d",
        "colab": {
          "base_uri": "https://localhost:8080/",
          "height": 51
        }
      },
      "source": [
        "a = \"nasir zaman\"\n",
        "print (a)\n",
        "print(a.capitalize())"
      ],
      "execution_count": 0,
      "outputs": [
        {
          "output_type": "stream",
          "text": [
            "nasir zaman\n",
            "Nasir zaman\n"
          ],
          "name": "stdout"
        }
      ]
    },
    {
      "cell_type": "code",
      "metadata": {
        "id": "OB1HaM3lVW5M",
        "colab_type": "code",
        "outputId": "cf4d1ec8-9956-49ea-b8f7-4a0fe08dcd26",
        "colab": {
          "base_uri": "https://localhost:8080/",
          "height": 51
        }
      },
      "source": [
        "a = \"NAsir Zaman\"\n",
        "print (a)\n",
        "print(a.casefold())"
      ],
      "execution_count": 0,
      "outputs": [
        {
          "output_type": "stream",
          "text": [
            "NAsir Zaman\n",
            "nasir zaman\n"
          ],
          "name": "stdout"
        }
      ]
    },
    {
      "cell_type": "code",
      "metadata": {
        "id": "f3DI3dt_Vgz5",
        "colab_type": "code",
        "outputId": "daa38e93-501b-4821-ea05-cb4aa5f2582d",
        "colab": {
          "base_uri": "https://localhost:8080/",
          "height": 51
        }
      },
      "source": [
        "a = \"nasir zaman\"\n",
        "print (a)\n",
        "print(a.center(50))"
      ],
      "execution_count": 0,
      "outputs": [
        {
          "output_type": "stream",
          "text": [
            "nasir zaman\n",
            "                   nasir zaman                    \n"
          ],
          "name": "stdout"
        }
      ]
    },
    {
      "cell_type": "code",
      "metadata": {
        "id": "mYiMsE3lV8yk",
        "colab_type": "code",
        "outputId": "62494721-0388-4ad9-cf2c-91f51eb3cf9d",
        "colab": {
          "base_uri": "https://localhost:8080/",
          "height": 51
        }
      },
      "source": [
        "a = [1,1,1,1,4,2,4,55,6,7]\n",
        "print (a)\n",
        "print(a.count(1))"
      ],
      "execution_count": 0,
      "outputs": [
        {
          "output_type": "stream",
          "text": [
            "[1, 1, 1, 1, 4, 2, 4, 55, 6, 7]\n",
            "4\n"
          ],
          "name": "stdout"
        }
      ]
    },
    {
      "cell_type": "code",
      "metadata": {
        "id": "3t1fylrhWh1b",
        "colab_type": "code",
        "outputId": "b57ee0d1-cfb3-4125-807d-2dac38d93458",
        "colab": {
          "base_uri": "https://localhost:8080/",
          "height": 51
        }
      },
      "source": [
        "a = \"nasir_zaman\"\n",
        "print (a)\n",
        "print(a.encode())"
      ],
      "execution_count": 0,
      "outputs": [
        {
          "output_type": "stream",
          "text": [
            "nasir_zaman\n",
            "b'nasir_zaman'\n"
          ],
          "name": "stdout"
        }
      ]
    },
    {
      "cell_type": "code",
      "metadata": {
        "id": "HHHjnK35YGdQ",
        "colab_type": "code",
        "outputId": "4bdf48b9-cbb4-4e07-a71e-274a4e81933e",
        "colab": {
          "base_uri": "https://localhost:8080/",
          "height": 51
        }
      },
      "source": [
        "str = \"My name is nasir zaman!!\"\n",
        "suffix = \"zaman!!\"\n",
        "print (str)\n",
        "print (str.endswith(suffix))"
      ],
      "execution_count": 0,
      "outputs": [
        {
          "output_type": "stream",
          "text": [
            "My name is nasir zaman!!\n",
            "True\n"
          ],
          "name": "stdout"
        }
      ]
    },
    {
      "cell_type": "code",
      "metadata": {
        "id": "GiZ3C80gZMDo",
        "colab_type": "code",
        "outputId": "addcdf23-a816-4b16-fdcf-9e4247e5c9be",
        "colab": {
          "base_uri": "https://localhost:8080/",
          "height": 51
        }
      },
      "source": [
        "str = 'xyz\\t12345\\tabc'\n",
        "print(str)\n",
        "print(str.expandtabs(16))"
      ],
      "execution_count": 0,
      "outputs": [
        {
          "output_type": "stream",
          "text": [
            "xyz\t12345\tabc\n",
            "xyz             12345           abc\n"
          ],
          "name": "stdout"
        }
      ]
    },
    {
      "cell_type": "code",
      "metadata": {
        "id": "D-KTCCSRaB-g",
        "colab_type": "code",
        "outputId": "7d4e1513-cd26-4829-a3a6-ea5eb56d9e98",
        "colab": {
          "base_uri": "https://localhost:8080/",
          "height": 85
        }
      },
      "source": [
        "s = 'abcd1234dcba'\n",
        "\n",
        "print(s.find('1234')) \n",
        "print(s.find('234'))\n",
        "print(s.find('34'))\n",
        "print(s.find('4'))"
      ],
      "execution_count": 0,
      "outputs": [
        {
          "output_type": "stream",
          "text": [
            "4\n",
            "5\n",
            "6\n",
            "7\n"
          ],
          "name": "stdout"
        }
      ]
    },
    {
      "cell_type": "code",
      "metadata": {
        "id": "xe33x4sXawwK",
        "colab_type": "code",
        "outputId": "a44e80d8-48f8-4b3f-a6f8-8939c653c4c7",
        "colab": {
          "base_uri": "https://localhost:8080/",
          "height": 85
        }
      },
      "source": [
        "str = \"my name is {}\"\n",
        "print (str.format(\"nasir\"))\n",
        "\n",
        "str = \"my age is {}\"\n",
        "print(\"type your age!\")\n",
        "age = input()\n",
        "print (str.format(age))"
      ],
      "execution_count": 8,
      "outputs": [
        {
          "output_type": "stream",
          "text": [
            "my name is nasir\n",
            "type your age!\n",
            "31\n",
            "my age is 31\n"
          ],
          "name": "stdout"
        }
      ]
    },
    {
      "cell_type": "code",
      "metadata": {
        "id": "IeEGVTNdbd2C",
        "colab_type": "code",
        "colab": {
          "base_uri": "https://localhost:8080/",
          "height": 34
        },
        "outputId": "38fd5efc-5026-4ee5-97bd-be79177d722b"
      },
      "source": [
        "point = {'x':4,'y':-5}\n",
        "print('{x} {y}'.format_map(point))\n"
      ],
      "execution_count": 9,
      "outputs": [
        {
          "output_type": "stream",
          "text": [
            "4 -5\n"
          ],
          "name": "stdout"
        }
      ]
    },
    {
      "cell_type": "code",
      "metadata": {
        "id": "wUmlWqiZGheo",
        "colab_type": "code",
        "colab": {
          "base_uri": "https://localhost:8080/",
          "height": 34
        },
        "outputId": "e2be4a68-4cb1-4066-9fc3-88981b638cb6"
      },
      "source": [
        "vowels = ['a', 'e', 'i', 'o', 'i', 'u']\n",
        "# index of 'e'\n",
        "index = vowels.index('e')\n",
        "print('The index of e:', index)"
      ],
      "execution_count": 10,
      "outputs": [
        {
          "output_type": "stream",
          "text": [
            "The index of e: 1\n"
          ],
          "name": "stdout"
        }
      ]
    },
    {
      "cell_type": "code",
      "metadata": {
        "id": "DHjeLZxxG9jD",
        "colab_type": "code",
        "colab": {
          "base_uri": "https://localhost:8080/",
          "height": 34
        },
        "outputId": "26a63cb5-6c01-46c7-9a16-dfc1354a3fa8"
      },
      "source": [
        "str = \"aeiou\"\n",
        "print(str.isalnum())"
      ],
      "execution_count": 14,
      "outputs": [
        {
          "output_type": "stream",
          "text": [
            "True\n"
          ],
          "name": "stdout"
        }
      ]
    },
    {
      "cell_type": "code",
      "metadata": {
        "id": "zG7FSC77HZH1",
        "colab_type": "code",
        "colab": {
          "base_uri": "https://localhost:8080/",
          "height": 34
        },
        "outputId": "53a3de8a-6717-4a5f-b5d0-460fad010222"
      },
      "source": [
        "str = \"aeiou\"\n",
        "print(str.isalpha())"
      ],
      "execution_count": 16,
      "outputs": [
        {
          "output_type": "stream",
          "text": [
            "True\n"
          ],
          "name": "stdout"
        }
      ]
    },
    {
      "cell_type": "code",
      "metadata": {
        "id": "-X1DXkKfH_T-",
        "colab_type": "code",
        "colab": {
          "base_uri": "https://localhost:8080/",
          "height": 34
        },
        "outputId": "0800c8aa-8e19-42ce-8684-b561b3aa077a"
      },
      "source": [
        "str = \"456879\"\n",
        "print(str.isdecimal())"
      ],
      "execution_count": 20,
      "outputs": [
        {
          "output_type": "stream",
          "text": [
            "True\n"
          ],
          "name": "stdout"
        }
      ]
    },
    {
      "cell_type": "code",
      "metadata": {
        "id": "XIxs0tWZIFzM",
        "colab_type": "code",
        "colab": {
          "base_uri": "https://localhost:8080/",
          "height": 34
        },
        "outputId": "825d6a39-5134-4041-863e-b8916b1fb53b"
      },
      "source": [
        "str = \"456879\"\n",
        "print(str.isdigit())"
      ],
      "execution_count": 21,
      "outputs": [
        {
          "output_type": "stream",
          "text": [
            "True\n"
          ],
          "name": "stdout"
        }
      ]
    },
    {
      "cell_type": "code",
      "metadata": {
        "id": "fDsLntCsIgzG",
        "colab_type": "code",
        "colab": {
          "base_uri": "https://localhost:8080/",
          "height": 51
        },
        "outputId": "5a052f79-568f-4f3a-aa0e-c1d9c5f3c6dc"
      },
      "source": [
        "str = \"validString\"\n",
        "print(str.isidentifier())\n",
        "\n",
        "str = \"IN validString\"\n",
        "print(str.isidentifier())"
      ],
      "execution_count": 23,
      "outputs": [
        {
          "output_type": "stream",
          "text": [
            "True\n",
            "False\n"
          ],
          "name": "stdout"
        }
      ]
    },
    {
      "cell_type": "code",
      "metadata": {
        "id": "mlZYX9J9I7mh",
        "colab_type": "code",
        "colab": {
          "base_uri": "https://localhost:8080/",
          "height": 34
        },
        "outputId": "ba44c10a-4a04-4583-8944-8ca17e3ecfb8"
      },
      "source": [
        "str = 'hollywood'\n",
        "print(str.islower())"
      ],
      "execution_count": 24,
      "outputs": [
        {
          "output_type": "stream",
          "text": [
            "True\n"
          ],
          "name": "stdout"
        }
      ]
    },
    {
      "cell_type": "code",
      "metadata": {
        "id": "HjkZslH7aOTd",
        "colab_type": "code",
        "colab": {
          "base_uri": "https://localhost:8080/",
          "height": 51
        },
        "outputId": "eab41d9e-5257-4416-a77e-8fd5fa689251"
      },
      "source": [
        "str = '01234568461321'\n",
        "print(str.isnumeric())\n",
        "\n",
        "str = '01234568461a321'\n",
        "print(str.isnumeric())"
      ],
      "execution_count": 26,
      "outputs": [
        {
          "output_type": "stream",
          "text": [
            "True\n",
            "False\n"
          ],
          "name": "stdout"
        }
      ]
    },
    {
      "cell_type": "code",
      "metadata": {
        "id": "kpIOakcuaxBZ",
        "colab_type": "code",
        "colab": {
          "base_uri": "https://localhost:8080/",
          "height": 51
        },
        "outputId": "af8f78b8-fc39-4995-c0c8-01a1e091db0b"
      },
      "source": [
        "str = '01234568461321'\n",
        "print(str.isprintable())\n",
        "\n",
        "str = '\\n 01234568461321rgsdfg'\n",
        "print(str.isprintable())"
      ],
      "execution_count": 30,
      "outputs": [
        {
          "output_type": "stream",
          "text": [
            "True\n",
            "False\n"
          ],
          "name": "stdout"
        }
      ]
    },
    {
      "cell_type": "code",
      "metadata": {
        "id": "Jrwa364Sa6Xm",
        "colab_type": "code",
        "colab": {
          "base_uri": "https://localhost:8080/",
          "height": 34
        },
        "outputId": "acde7e00-91df-4884-f5e2-fdee2582682c"
      },
      "source": [
        "str = ' '\n",
        "print(str.isspace())"
      ],
      "execution_count": 34,
      "outputs": [
        {
          "output_type": "stream",
          "text": [
            "True\n"
          ],
          "name": "stdout"
        }
      ]
    },
    {
      "cell_type": "code",
      "metadata": {
        "id": "QeLPwV6qbbsH",
        "colab_type": "code",
        "colab": {
          "base_uri": "https://localhost:8080/",
          "height": 51
        },
        "outputId": "c4c96cf5-ff31-4787-af08-eba0ca1e464a"
      },
      "source": [
        "str = 'Nasir'\n",
        "print(str.istitle())\n",
        "\n",
        "str = 'nasir'\n",
        "print(str.istitle())"
      ],
      "execution_count": 36,
      "outputs": [
        {
          "output_type": "stream",
          "text": [
            "True\n",
            "False\n"
          ],
          "name": "stdout"
        }
      ]
    },
    {
      "cell_type": "code",
      "metadata": {
        "id": "L0OM5zHWcKL_",
        "colab_type": "code",
        "colab": {
          "base_uri": "https://localhost:8080/",
          "height": 51
        },
        "outputId": "d8cdf997-62fe-44aa-8d98-7c10ebc41de5"
      },
      "source": [
        "str = 'Nasir'\n",
        "print(str.isupper())\n",
        "\n",
        "str = 'NASIR'\n",
        "print(str.isupper())"
      ],
      "execution_count": 41,
      "outputs": [
        {
          "output_type": "stream",
          "text": [
            "False\n",
            "True\n"
          ],
          "name": "stdout"
        }
      ]
    },
    {
      "cell_type": "code",
      "metadata": {
        "id": "LtAABJBCcdI2",
        "colab_type": "code",
        "colab": {
          "base_uri": "https://localhost:8080/",
          "height": 34
        },
        "outputId": "49ce2fd2-f97b-4b86-d7f1-9e9f9b88be06"
      },
      "source": [
        "str = 'nasir zaman'\n",
        "s = '-'\n",
        "print(s.join(str))"
      ],
      "execution_count": 43,
      "outputs": [
        {
          "output_type": "stream",
          "text": [
            "n-a-s-i-r- -z-a-m-a-n\n"
          ],
          "name": "stdout"
        }
      ]
    },
    {
      "cell_type": "code",
      "metadata": {
        "id": "zH2mgT5GdTbK",
        "colab_type": "code",
        "colab": {
          "base_uri": "https://localhost:8080/",
          "height": 34
        },
        "outputId": "0855070a-1f0d-4bf6-d2e7-5ed036a78cf2"
      },
      "source": [
        "str = \"....wow!!!\";\n",
        "print (str.ljust(50, '0'))"
      ],
      "execution_count": 53,
      "outputs": [
        {
          "output_type": "stream",
          "text": [
            "....wow!!!0000000000000000000000000000000000000000\n"
          ],
          "name": "stdout"
        }
      ]
    },
    {
      "cell_type": "code",
      "metadata": {
        "id": "4fzPcSMAdsMs",
        "colab_type": "code",
        "colab": {
          "base_uri": "https://localhost:8080/",
          "height": 34
        },
        "outputId": "12f2c943-e33d-45eb-eea1-4726d0b39a29"
      },
      "source": [
        "str = 'Nasir'\n",
        "print(str.lower())"
      ],
      "execution_count": 54,
      "outputs": [
        {
          "output_type": "stream",
          "text": [
            "nasir\n"
          ],
          "name": "stdout"
        }
      ]
    },
    {
      "cell_type": "code",
      "metadata": {
        "id": "UoZyrKIYeLAq",
        "colab_type": "code",
        "colab": {
          "base_uri": "https://localhost:8080/",
          "height": 51
        },
        "outputId": "7355e527-682b-4926-f62a-dac3eb061daa"
      },
      "source": [
        "str = '    Nasir zaman'\n",
        "print(str)\n",
        "print(str.lstrip())"
      ],
      "execution_count": 59,
      "outputs": [
        {
          "output_type": "stream",
          "text": [
            "    Nasir zaman\n",
            "Nasir zaman\n"
          ],
          "name": "stdout"
        }
      ]
    },
    {
      "cell_type": "code",
      "metadata": {
        "id": "0MzwJEglePn5",
        "colab_type": "code",
        "colab": {
          "base_uri": "https://localhost:8080/",
          "height": 51
        },
        "outputId": "c7149466-6f77-4b13-ebbe-4bbe9ed05e6e"
      },
      "source": [
        "dict = {\"a\": \"123\", \"b\": \"456\", \"c\": \"789\"}\n",
        "string = \"abc\"\n",
        "print(string.maketrans(dict))\n",
        "\n",
        "firstString = \"abc\"\n",
        "secondString = \"def\"\n",
        "string = \"abc\"\n",
        "print(string.maketrans(firstString, secondString))"
      ],
      "execution_count": 66,
      "outputs": [
        {
          "output_type": "stream",
          "text": [
            "{97: '123', 98: '456', 99: '789'}\n",
            "{97: 100, 98: 101, 99: 102}\n"
          ],
          "name": "stdout"
        }
      ]
    },
    {
      "cell_type": "code",
      "metadata": {
        "id": "eLBBQbVrfTtS",
        "colab_type": "code",
        "colab": {
          "base_uri": "https://localhost:8080/",
          "height": 51
        },
        "outputId": "0efcfbae-c5ed-4a34-bbe6-b25e7547260b"
      },
      "source": [
        "str = 'Nasir zaman'\n",
        "seperator = ' '\n",
        "print(str)\n",
        "print(str.partition(seperator))"
      ],
      "execution_count": 70,
      "outputs": [
        {
          "output_type": "stream",
          "text": [
            "Nasir zaman\n",
            "('Nasir', ' ', 'zaman')\n"
          ],
          "name": "stdout"
        }
      ]
    },
    {
      "cell_type": "code",
      "metadata": {
        "id": "q_z9ByL1gj2B",
        "colab_type": "code",
        "colab": {
          "base_uri": "https://localhost:8080/",
          "height": 51
        },
        "outputId": "b952d0a0-f3cb-4b6d-b760-d88536674a54"
      },
      "source": [
        "str = 'Nasir zaman'\n",
        "print(str)\n",
        "print(str.replace('zaman','ZAMAN',1))"
      ],
      "execution_count": 73,
      "outputs": [
        {
          "output_type": "stream",
          "text": [
            "Nasir zaman\n",
            "Nasir ZAMAN\n"
          ],
          "name": "stdout"
        }
      ]
    },
    {
      "cell_type": "code",
      "metadata": {
        "id": "mdt54d1JhT_Z",
        "colab_type": "code",
        "colab": {
          "base_uri": "https://localhost:8080/",
          "height": 34
        },
        "outputId": "a8d22c94-8e14-4f3c-b392-a801b06c25ef"
      },
      "source": [
        "quote = 'Let it be, let it be, let it be'\n",
        "\n",
        "result = quote.rfind('let it')\n",
        "print(\"Substring 'let it':\", result)"
      ],
      "execution_count": 74,
      "outputs": [
        {
          "output_type": "stream",
          "text": [
            "Substring 'let it': 22\n"
          ],
          "name": "stdout"
        }
      ]
    },
    {
      "cell_type": "code",
      "metadata": {
        "id": "rXBFLj5NiXSR",
        "colab_type": "code",
        "colab": {
          "base_uri": "https://localhost:8080/",
          "height": 34
        },
        "outputId": "c1d5b117-4686-4b48-d558-a84b187a243b"
      },
      "source": [
        "quote = 'Let it be, let it be, let it be'\n",
        "\n",
        "result = quote.rindex('let it')\n",
        "print(\"Substring 'let it':\", result)"
      ],
      "execution_count": 75,
      "outputs": [
        {
          "output_type": "stream",
          "text": [
            "Substring 'let it': 22\n"
          ],
          "name": "stdout"
        }
      ]
    },
    {
      "cell_type": "code",
      "metadata": {
        "id": "VnUgt3rAqf_5",
        "colab_type": "code",
        "colab": {
          "base_uri": "https://localhost:8080/",
          "height": 34
        },
        "outputId": "a08892eb-e8e8-41f8-c746-db76f3a8addd"
      },
      "source": [
        "str = \"!!!wow!!!\";\n",
        "print (str.rjust(50, '*'))"
      ],
      "execution_count": 77,
      "outputs": [
        {
          "output_type": "stream",
          "text": [
            "*****************************************!!!wow!!!\n"
          ],
          "name": "stdout"
        }
      ]
    },
    {
      "cell_type": "code",
      "metadata": {
        "id": "tIYw7Y9LrD0x",
        "colab_type": "code",
        "colab": {
          "base_uri": "https://localhost:8080/",
          "height": 34
        },
        "outputId": "ff0da850-aa03-42d1-9167-b4930f1dd6d9"
      },
      "source": [
        "str = 'my name is nasir'\n",
        "print(str.rpartition(\"is\"))"
      ],
      "execution_count": 78,
      "outputs": [
        {
          "output_type": "stream",
          "text": [
            "('my name ', 'is', ' nasir')\n"
          ],
          "name": "stdout"
        }
      ]
    },
    {
      "cell_type": "code",
      "metadata": {
        "id": "DAqcY_7_r54o",
        "colab_type": "code",
        "colab": {
          "base_uri": "https://localhost:8080/",
          "height": 51
        },
        "outputId": "c5d6196e-9409-4796-b7fd-bda0f3dd49c4"
      },
      "source": [
        "str = 'my name is nasir                                '\n",
        "print(str)\n",
        "print(str.rstrip())"
      ],
      "execution_count": 85,
      "outputs": [
        {
          "output_type": "stream",
          "text": [
            "my name is nasir                                \n",
            "my name is nasir\n"
          ],
          "name": "stdout"
        }
      ]
    },
    {
      "cell_type": "code",
      "metadata": {
        "id": "dgyu0zfZsGZx",
        "colab_type": "code",
        "colab": {
          "base_uri": "https://localhost:8080/",
          "height": 34
        },
        "outputId": "fb4341da-6aec-45d0-860d-43b8a1dc5dff"
      },
      "source": [
        "str = 'my name is nasir'\n",
        "print(str.split(\"is\"))"
      ],
      "execution_count": 88,
      "outputs": [
        {
          "output_type": "stream",
          "text": [
            "['my name ', ' nasir']\n"
          ],
          "name": "stdout"
        }
      ]
    },
    {
      "cell_type": "code",
      "metadata": {
        "id": "1zrybbs7tma1",
        "colab_type": "code",
        "colab": {
          "base_uri": "https://localhost:8080/",
          "height": 68
        },
        "outputId": "d62aaa49-b95f-43f4-dde6-201ab73e43f1"
      },
      "source": [
        "str = 'my name is \\n nasir'\n",
        "print(str)\n",
        "print(str.splitlines(5))"
      ],
      "execution_count": 91,
      "outputs": [
        {
          "output_type": "stream",
          "text": [
            "my name is \n",
            " nasir\n",
            "['my name is \\n', ' nasir']\n"
          ],
          "name": "stdout"
        }
      ]
    },
    {
      "cell_type": "code",
      "metadata": {
        "id": "fzwl6CeKtv5V",
        "colab_type": "code",
        "colab": {
          "base_uri": "https://localhost:8080/",
          "height": 34
        },
        "outputId": "58543175-3302-478c-89f8-282a800f56c4"
      },
      "source": [
        "str = 'my name is nasir'\n",
        "print(str.startswith(\"my\"))"
      ],
      "execution_count": 92,
      "outputs": [
        {
          "output_type": "stream",
          "text": [
            "True\n"
          ],
          "name": "stdout"
        }
      ]
    },
    {
      "cell_type": "code",
      "metadata": {
        "id": "M-ewqrgSugfW",
        "colab_type": "code",
        "colab": {
          "base_uri": "https://localhost:8080/",
          "height": 51
        },
        "outputId": "8748d293-a1ef-4583-8c03-8a91882ad92b"
      },
      "source": [
        "str = '                               my name is nasir                                       '\n",
        "print(str)\n",
        "print(str.strip())"
      ],
      "execution_count": 95,
      "outputs": [
        {
          "output_type": "stream",
          "text": [
            "                               my name is nasir                                       \n",
            "my name is nasir\n"
          ],
          "name": "stdout"
        }
      ]
    },
    {
      "cell_type": "code",
      "metadata": {
        "id": "A6qA_xcyupJa",
        "colab_type": "code",
        "colab": {
          "base_uri": "https://localhost:8080/",
          "height": 34
        },
        "outputId": "0f3457c3-6900-4be5-cd8c-73e9f5a879ed"
      },
      "source": [
        "str = 'my name is nasir'\n",
        "print(str.swapcase())"
      ],
      "execution_count": 96,
      "outputs": [
        {
          "output_type": "stream",
          "text": [
            "MY NAME IS NASIR\n"
          ],
          "name": "stdout"
        }
      ]
    },
    {
      "cell_type": "code",
      "metadata": {
        "id": "1gM_q7esu20_",
        "colab_type": "code",
        "colab": {
          "base_uri": "https://localhost:8080/",
          "height": 34
        },
        "outputId": "7cb6bd9c-4224-4615-b82a-7367f5954b38"
      },
      "source": [
        "str = 'my name is nasir'\n",
        "print(str.title())"
      ],
      "execution_count": 97,
      "outputs": [
        {
          "output_type": "stream",
          "text": [
            "My Name Is Nasir\n"
          ],
          "name": "stdout"
        }
      ]
    },
    {
      "cell_type": "code",
      "metadata": {
        "id": "-gErFCXavAZL",
        "colab_type": "code",
        "colab": {
          "base_uri": "https://localhost:8080/",
          "height": 51
        },
        "outputId": "79af792f-4360-45ad-d774-4a6e59ce4446"
      },
      "source": [
        "# Python 3 Program to show working \n",
        "# of translate() method \n",
        "  \n",
        "# specifying the mapping   \n",
        "# using ASCII   \n",
        "translation = {103: None, 101: None, 101: None} \n",
        "  \n",
        "string = \"geeks\"\n",
        "print(\"Original string:\", string) \n",
        "  \n",
        "# translate string \n",
        "print(\"Translated string:\",  \n",
        "       string.translate(translation)) "
      ],
      "execution_count": 100,
      "outputs": [
        {
          "output_type": "stream",
          "text": [
            "Original string: humans\n",
            "Translated string: humans\n"
          ],
          "name": "stdout"
        }
      ]
    },
    {
      "cell_type": "code",
      "metadata": {
        "id": "XVT_LO_YvHNt",
        "colab_type": "code",
        "colab": {
          "base_uri": "https://localhost:8080/",
          "height": 34
        },
        "outputId": "7e43e6d8-a6ca-49bc-a8fa-978e06229133"
      },
      "source": [
        "str = 'my name is nasir'\n",
        "print(str.upper())"
      ],
      "execution_count": 101,
      "outputs": [
        {
          "output_type": "stream",
          "text": [
            "MY NAME IS NASIR\n"
          ],
          "name": "stdout"
        }
      ]
    },
    {
      "cell_type": "code",
      "metadata": {
        "id": "-QmzRD9fwR4a",
        "colab_type": "code",
        "colab": {
          "base_uri": "https://localhost:8080/",
          "height": 34
        },
        "outputId": "e27bb8b8-8706-483c-d103-bd1c3bd4ae34"
      },
      "source": [
        "str =  ' my name is nasir'\n",
        "print(str.zfill(50))"
      ],
      "execution_count": 103,
      "outputs": [
        {
          "output_type": "stream",
          "text": [
            "000000000000000000000000000000000 my name is nasir\n"
          ],
          "name": "stdout"
        }
      ]
    },
    {
      "cell_type": "markdown",
      "metadata": {
        "id": "hYN0Vabfyp8R",
        "colab_type": "text"
      },
      "source": [
        "# **Applying Random Operators on 20 Opperands**"
      ]
    },
    {
      "cell_type": "code",
      "metadata": {
        "id": "at3ZhxbbypmY",
        "colab_type": "code",
        "colab": {
          "base_uri": "https://localhost:8080/",
          "height": 34
        },
        "outputId": "e4460f5b-8dff-4c28-e0b8-3622fe7acb44"
      },
      "source": [
        "9+8*2/2**2+(7-3)*7"
      ],
      "execution_count": 104,
      "outputs": [
        {
          "output_type": "execute_result",
          "data": {
            "text/plain": [
              "41.0"
            ]
          },
          "metadata": {
            "tags": []
          },
          "execution_count": 104
        }
      ]
    },
    {
      "cell_type": "code",
      "metadata": {
        "id": "lVeAwJutwd-6",
        "colab_type": "code",
        "colab": {
          "base_uri": "https://localhost:8080/",
          "height": 34
        },
        "outputId": "edb80ccc-e83e-453c-e787-d3a047755488"
      },
      "source": [
        "9+8*2/2*7"
      ],
      "execution_count": 105,
      "outputs": [
        {
          "output_type": "execute_result",
          "data": {
            "text/plain": [
              "65.0"
            ]
          },
          "metadata": {
            "tags": []
          },
          "execution_count": 105
        }
      ]
    },
    {
      "cell_type": "code",
      "metadata": {
        "id": "wMLgQomY34au",
        "colab_type": "code",
        "colab": {
          "base_uri": "https://localhost:8080/",
          "height": 34
        },
        "outputId": "5bbbe527-7872-4882-f8e8-a2291dc4039b"
      },
      "source": [
        "9+(7-3)*7"
      ],
      "execution_count": 106,
      "outputs": [
        {
          "output_type": "execute_result",
          "data": {
            "text/plain": [
              "37"
            ]
          },
          "metadata": {
            "tags": []
          },
          "execution_count": 106
        }
      ]
    },
    {
      "cell_type": "code",
      "metadata": {
        "id": "zXf1IPaV363e",
        "colab_type": "code",
        "colab": {
          "base_uri": "https://localhost:8080/",
          "height": 34
        },
        "outputId": "61194d72-497c-4f7e-a7d7-ec1a9e9f1d98"
      },
      "source": [
        "10+800*2/4**2+(51-3)*7"
      ],
      "execution_count": 107,
      "outputs": [
        {
          "output_type": "execute_result",
          "data": {
            "text/plain": [
              "446.0"
            ]
          },
          "metadata": {
            "tags": []
          },
          "execution_count": 107
        }
      ]
    },
    {
      "cell_type": "code",
      "metadata": {
        "id": "JJVb6uC04Bzv",
        "colab_type": "code",
        "colab": {
          "base_uri": "https://localhost:8080/",
          "height": 34
        },
        "outputId": "71aa6f9e-0421-4de1-d26d-4dc5b3ef5be9"
      },
      "source": [
        "10+800*7"
      ],
      "execution_count": 108,
      "outputs": [
        {
          "output_type": "execute_result",
          "data": {
            "text/plain": [
              "5610"
            ]
          },
          "metadata": {
            "tags": []
          },
          "execution_count": 108
        }
      ]
    },
    {
      "cell_type": "code",
      "metadata": {
        "id": "sKZeCi9c4FPt",
        "colab_type": "code",
        "colab": {
          "base_uri": "https://localhost:8080/",
          "height": 34
        },
        "outputId": "680ea7f4-49a1-4540-b7b1-03e8b363be1e"
      },
      "source": [
        "2/4**2+(51-3)*7"
      ],
      "execution_count": 109,
      "outputs": [
        {
          "output_type": "execute_result",
          "data": {
            "text/plain": [
              "336.125"
            ]
          },
          "metadata": {
            "tags": []
          },
          "execution_count": 109
        }
      ]
    },
    {
      "cell_type": "code",
      "metadata": {
        "id": "9hLoE6024HqZ",
        "colab_type": "code",
        "colab": {
          "base_uri": "https://localhost:8080/",
          "height": 34
        },
        "outputId": "b32f6148-7a06-4ecf-dc25-3b0226e39429"
      },
      "source": [
        "10+800*2/4**7"
      ],
      "execution_count": 110,
      "outputs": [
        {
          "output_type": "execute_result",
          "data": {
            "text/plain": [
              "10.09765625"
            ]
          },
          "metadata": {
            "tags": []
          },
          "execution_count": 110
        }
      ]
    },
    {
      "cell_type": "code",
      "metadata": {
        "id": "OvU-ygyR4Kre",
        "colab_type": "code",
        "colab": {
          "base_uri": "https://localhost:8080/",
          "height": 34
        },
        "outputId": "409e28f1-4ea0-41e0-cafd-f9c07fc80512"
      },
      "source": [
        "10+80*2/4**7"
      ],
      "execution_count": 111,
      "outputs": [
        {
          "output_type": "execute_result",
          "data": {
            "text/plain": [
              "10.009765625"
            ]
          },
          "metadata": {
            "tags": []
          },
          "execution_count": 111
        }
      ]
    },
    {
      "cell_type": "code",
      "metadata": {
        "id": "4tpQ3dCu4Smo",
        "colab_type": "code",
        "colab": {
          "base_uri": "https://localhost:8080/",
          "height": 34
        },
        "outputId": "cb0beafc-ad02-4009-d79f-52ecf27e0219"
      },
      "source": [
        "10-20*0-800*2/4**7"
      ],
      "execution_count": 112,
      "outputs": [
        {
          "output_type": "execute_result",
          "data": {
            "text/plain": [
              "9.90234375"
            ]
          },
          "metadata": {
            "tags": []
          },
          "execution_count": 112
        }
      ]
    },
    {
      "cell_type": "code",
      "metadata": {
        "id": "_iyluYIT4Wyt",
        "colab_type": "code",
        "colab": {
          "base_uri": "https://localhost:8080/",
          "height": 34
        },
        "outputId": "52e2820f-69f8-4c95-9090-038b66dd251e"
      },
      "source": [
        "5/4*4+45+1/5+5**4"
      ],
      "execution_count": 113,
      "outputs": [
        {
          "output_type": "execute_result",
          "data": {
            "text/plain": [
              "675.2"
            ]
          },
          "metadata": {
            "tags": []
          },
          "execution_count": 113
        }
      ]
    },
    {
      "cell_type": "code",
      "metadata": {
        "id": "1m3Zq2WT4bYL",
        "colab_type": "code",
        "colab": {
          "base_uri": "https://localhost:8080/",
          "height": 34
        },
        "outputId": "59db88e6-5242-491a-eae8-f05950837ef4"
      },
      "source": [
        "186*4-41**4+464"
      ],
      "execution_count": 114,
      "outputs": [
        {
          "output_type": "execute_result",
          "data": {
            "text/plain": [
              "-2824553"
            ]
          },
          "metadata": {
            "tags": []
          },
          "execution_count": 114
        }
      ]
    },
    {
      "cell_type": "code",
      "metadata": {
        "id": "a5aYNZiu4gFv",
        "colab_type": "code",
        "colab": {
          "base_uri": "https://localhost:8080/",
          "height": 34
        },
        "outputId": "7b8283cf-9196-4c5a-a9f6-024cb909799b"
      },
      "source": [
        "59**6-46+0"
      ],
      "execution_count": 117,
      "outputs": [
        {
          "output_type": "execute_result",
          "data": {
            "text/plain": [
              "42180533595"
            ]
          },
          "metadata": {
            "tags": []
          },
          "execution_count": 117
        }
      ]
    },
    {
      "cell_type": "code",
      "metadata": {
        "id": "AuzN2oGq4n4M",
        "colab_type": "code",
        "colab": {
          "base_uri": "https://localhost:8080/",
          "height": 34
        },
        "outputId": "d9f8e23a-a6d6-481b-eafd-fe9bbc9d1bc0"
      },
      "source": [
        "10+800*2/4*4*4*4*7"
      ],
      "execution_count": 118,
      "outputs": [
        {
          "output_type": "execute_result",
          "data": {
            "text/plain": [
              "179210.0"
            ]
          },
          "metadata": {
            "tags": []
          },
          "execution_count": 118
        }
      ]
    },
    {
      "cell_type": "code",
      "metadata": {
        "id": "Rozuu5nH4xZj",
        "colab_type": "code",
        "colab": {
          "base_uri": "https://localhost:8080/",
          "height": 34
        },
        "outputId": "6b56b2c6-88fc-44ce-8561-85113bba3409"
      },
      "source": [
        "10+800*2/4*4/4+5+9+8-7-0"
      ],
      "execution_count": 120,
      "outputs": [
        {
          "output_type": "execute_result",
          "data": {
            "text/plain": [
              "425.0"
            ]
          },
          "metadata": {
            "tags": []
          },
          "execution_count": 120
        }
      ]
    },
    {
      "cell_type": "code",
      "metadata": {
        "id": "GRNUuUTg44Uk",
        "colab_type": "code",
        "colab": {
          "base_uri": "https://localhost:8080/",
          "height": 34
        },
        "outputId": "64a82007-a36f-4e52-ee3d-e56dab7eddfb"
      },
      "source": [
        "464/464*464-464+5645**4"
      ],
      "execution_count": 121,
      "outputs": [
        {
          "output_type": "execute_result",
          "data": {
            "text/plain": [
              "1015443549300625.0"
            ]
          },
          "metadata": {
            "tags": []
          },
          "execution_count": 121
        }
      ]
    },
    {
      "cell_type": "code",
      "metadata": {
        "id": "iiU_hS2H49Gw",
        "colab_type": "code",
        "colab": {
          "base_uri": "https://localhost:8080/",
          "height": 34
        },
        "outputId": "c4e0a8cf-ed84-4aa1-bcbb-895213b411d6"
      },
      "source": [
        "54325*524*-25254413+441234123/4"
      ],
      "execution_count": 122,
      "outputs": [
        {
          "output_type": "execute_result",
          "data": {
            "text/plain": [
              "-718899586473369.2"
            ]
          },
          "metadata": {
            "tags": []
          },
          "execution_count": 122
        }
      ]
    },
    {
      "cell_type": "code",
      "metadata": {
        "id": "XLDbm5h_5DoM",
        "colab_type": "code",
        "colab": {
          "base_uri": "https://localhost:8080/",
          "height": 34
        },
        "outputId": "03f1ce1e-8e86-404f-e351-d8581fd9428c"
      },
      "source": [
        "5+5+5/2"
      ],
      "execution_count": 123,
      "outputs": [
        {
          "output_type": "execute_result",
          "data": {
            "text/plain": [
              "12.5"
            ]
          },
          "metadata": {
            "tags": []
          },
          "execution_count": 123
        }
      ]
    },
    {
      "cell_type": "code",
      "metadata": {
        "id": "LlZelmB15H6H",
        "colab_type": "code",
        "colab": {
          "base_uri": "https://localhost:8080/",
          "height": 34
        },
        "outputId": "6af7d229-e6d0-40ad-e0b1-64d6cbb33d22"
      },
      "source": [
        "4/4+1-2"
      ],
      "execution_count": 124,
      "outputs": [
        {
          "output_type": "execute_result",
          "data": {
            "text/plain": [
              "0.0"
            ]
          },
          "metadata": {
            "tags": []
          },
          "execution_count": 124
        }
      ]
    },
    {
      "cell_type": "code",
      "metadata": {
        "id": "xb3QCv4B5LZZ",
        "colab_type": "code",
        "colab": {}
      },
      "source": [
        ""
      ],
      "execution_count": 0,
      "outputs": []
    }
  ]
}